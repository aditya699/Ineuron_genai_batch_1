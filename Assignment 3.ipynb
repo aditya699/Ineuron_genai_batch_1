{
 "cells": [
  {
   "cell_type": "markdown",
   "id": "2872af67",
   "metadata": {},
   "source": [
    "# Assignment 3\n"
   ]
  },
  {
   "cell_type": "markdown",
   "id": "9b76a129",
   "metadata": {},
   "source": [
    "# ETL +Text Cleaning+Text Extraction"
   ]
  },
  {
   "cell_type": "code",
   "execution_count": 9,
   "id": "5bcc27c6",
   "metadata": {},
   "outputs": [],
   "source": [
    "!pip install -q tokenizer transformers scikit-learn pypdf==3.16.0 nltk pandarallel pandas==2.1.0 datasets torch --user"
   ]
  },
  {
   "cell_type": "code",
   "execution_count": null,
   "id": "fd10b6fd",
   "metadata": {},
   "outputs": [],
   "source": [
    "!pip install tensorflow"
   ]
  },
  {
   "cell_type": "code",
   "execution_count": 2,
   "id": "eab4db26",
   "metadata": {},
   "outputs": [],
   "source": [
    "import pandas as pd\n",
    "import numpy as np\n",
    "import sklearn\n",
    "import matplotlib.pyplot as plt\n",
    "from tqdm.auto import tqdm\n",
    "import datasets\n",
    "import transformers"
   ]
  },
  {
   "cell_type": "code",
   "execution_count": 12,
   "id": "64f0ecb7",
   "metadata": {},
   "outputs": [],
   "source": [
    "resume_data=pd.read_csv(\"C:/Users/aditya1/Desktop/Assignment-3/Resume/Resume.csv\")\n",
    "resume_data=resume_data.drop([\"Resume_html\"],axis=1)"
   ]
  },
  {
   "cell_type": "code",
   "execution_count": 14,
   "id": "3dedf144",
   "metadata": {},
   "outputs": [
    {
     "data": {
      "text/html": [
       "<div>\n",
       "<style scoped>\n",
       "    .dataframe tbody tr th:only-of-type {\n",
       "        vertical-align: middle;\n",
       "    }\n",
       "\n",
       "    .dataframe tbody tr th {\n",
       "        vertical-align: top;\n",
       "    }\n",
       "\n",
       "    .dataframe thead th {\n",
       "        text-align: right;\n",
       "    }\n",
       "</style>\n",
       "<table border=\"1\" class=\"dataframe\">\n",
       "  <thead>\n",
       "    <tr style=\"text-align: right;\">\n",
       "      <th></th>\n",
       "      <th>ID</th>\n",
       "      <th>Resume_str</th>\n",
       "      <th>Category</th>\n",
       "    </tr>\n",
       "  </thead>\n",
       "  <tbody>\n",
       "    <tr>\n",
       "      <th>0</th>\n",
       "      <td>16852973</td>\n",
       "      <td>HR ADMINISTRATOR/MARKETING ASSOCIATE\\...</td>\n",
       "      <td>HR</td>\n",
       "    </tr>\n",
       "    <tr>\n",
       "      <th>1</th>\n",
       "      <td>22323967</td>\n",
       "      <td>HR SPECIALIST, US HR OPERATIONS      ...</td>\n",
       "      <td>HR</td>\n",
       "    </tr>\n",
       "  </tbody>\n",
       "</table>\n",
       "</div>"
      ],
      "text/plain": [
       "         ID                                         Resume_str Category\n",
       "0  16852973           HR ADMINISTRATOR/MARKETING ASSOCIATE\\...       HR\n",
       "1  22323967           HR SPECIALIST, US HR OPERATIONS      ...       HR"
      ]
     },
     "execution_count": 14,
     "metadata": {},
     "output_type": "execute_result"
    }
   ],
   "source": [
    "resume_data.head(2)"
   ]
  },
  {
   "cell_type": "code",
   "execution_count": 15,
   "id": "e84b7546",
   "metadata": {},
   "outputs": [],
   "source": [
    "#getting all text from a pdf\n",
    "from pypdf import PdfReader\n",
    "\n",
    "def pdf_text(filePath:str)->str:\n",
    "    reader = PdfReader(filePath)\n",
    "    text=\"\"\n",
    "    for page in reader.pages:\n",
    "        text+=page.extract_text()\n",
    "    return text\n"
   ]
  },
  {
   "cell_type": "code",
   "execution_count": null,
   "id": "c67cecb1",
   "metadata": {},
   "outputs": [],
   "source": [
    "import nltk\n",
    "nltk.download('all')"
   ]
  },
  {
   "cell_type": "code",
   "execution_count": 19,
   "id": "1a6a16b7",
   "metadata": {},
   "outputs": [],
   "source": [
    "#doing text cleaninig and tokenization\n",
    "from nltk import pos_tag\n",
    "from nltk.tokenize import sent_tokenize,word_tokenize\n",
    "from nltk.corpus import stopwords\n",
    "import string\n",
    "import re\n",
    "\n",
    "puncuation=set(string.punctuation)\n",
    "stop_words_english=set(stopwords.words(\"english\"))\n",
    "def preprocess_text(text):\n",
    "    text = text.lower()\n",
    "    text = re.sub('[^a-zA-Z]', ' ', text)\n",
    "    sentences = sent_tokenize(text)\n",
    "    features = {'feature': \"\"}\n",
    "\n",
    "    for sent in sentences:\n",
    "        for criteria in ['skills', 'education']:\n",
    "            if criteria in sent:\n",
    "                words = word_tokenize(sent)\n",
    "                words = [word for word in words if word not in stop_words_english]\n",
    "                # POS tagger to identify and remove stop words and other irrelevant words\n",
    "                tagged_words = pos_tag(words)\n",
    "                filtered_words = [word for word, tag in tagged_words if tag not in ['DT', 'IN', 'TO', 'PRP', 'WP']]\n",
    "                features['feature'] += \" \".join(filtered_words)\n",
    "\n",
    "    return features"
   ]
  },
  {
   "cell_type": "code",
   "execution_count": 20,
   "id": "6374799a",
   "metadata": {},
   "outputs": [
    {
     "data": {
      "application/vnd.jupyter.widget-view+json": {
       "model_id": "c8bb48080ce64eb68745ca5602eb3e2f",
       "version_major": 2,
       "version_minor": 0
      },
      "text/plain": [
       "  0%|          | 0/2484 [00:00<?, ?it/s]"
      ]
     },
     "metadata": {},
     "output_type": "display_data"
    }
   ],
   "source": [
    "progress_bar=tqdm(range(len(resume_data)))\n",
    "# extract text from csv and get the text from pdf\n",
    "def process(df):\n",
    "    #uncomment when using pdf_text function .. done to save time\n",
    "    id=df['ID']\n",
    "    category=df['Category'] \n",
    "    text=pdf_text(f\"C:/Users/aditya1/Desktop/Assignment-3/data/data/{category}/{id}.pdf\")\n",
    "   # text=str(df[\"Resume_str\"])\n",
    "    features=preprocess_text(text)\n",
    "    df['Feature']=features['feature']\n",
    "    progress_bar.update(1)\n",
    "    return df\n",
    "      \n",
    "#applying processing to resume_data\n",
    "resume_data=resume_data.apply(process,axis=1)\n",
    "resume_data=resume_data.drop(columns=['Resume_str'])"
   ]
  },
  {
   "cell_type": "code",
   "execution_count": null,
   "id": "f3687375",
   "metadata": {
    "collapsed": true
   },
   "outputs": [],
   "source": [
    "resume_data.to_csv(\"resume_data.csv\",index=False)"
   ]
  },
  {
   "cell_type": "code",
   "execution_count": 105,
   "id": "942e95e4",
   "metadata": {},
   "outputs": [],
   "source": [
    "resume_data=pd.read_csv(\"resume_data.csv\")"
   ]
  },
  {
   "cell_type": "code",
   "execution_count": 106,
   "id": "75a40375",
   "metadata": {},
   "outputs": [
    {
     "data": {
      "text/plain": [
       "ID          0\n",
       "Category    0\n",
       "Feature     1\n",
       "dtype: int64"
      ]
     },
     "execution_count": 106,
     "metadata": {},
     "output_type": "execute_result"
    }
   ],
   "source": [
    "resume_data.isnull().sum()"
   ]
  },
  {
   "cell_type": "code",
   "execution_count": 107,
   "id": "33dc8459",
   "metadata": {},
   "outputs": [],
   "source": [
    "resume_data.dropna(inplace=True,axis=0)"
   ]
  },
  {
   "cell_type": "code",
   "execution_count": 108,
   "id": "a97faa93",
   "metadata": {},
   "outputs": [
    {
     "data": {
      "text/html": [
       "<div>\n",
       "<style scoped>\n",
       "    .dataframe tbody tr th:only-of-type {\n",
       "        vertical-align: middle;\n",
       "    }\n",
       "\n",
       "    .dataframe tbody tr th {\n",
       "        vertical-align: top;\n",
       "    }\n",
       "\n",
       "    .dataframe thead th {\n",
       "        text-align: right;\n",
       "    }\n",
       "</style>\n",
       "<table border=\"1\" class=\"dataframe\">\n",
       "  <thead>\n",
       "    <tr style=\"text-align: right;\">\n",
       "      <th></th>\n",
       "      <th>ID</th>\n",
       "      <th>Category</th>\n",
       "      <th>Feature</th>\n",
       "    </tr>\n",
       "  </thead>\n",
       "  <tbody>\n",
       "    <tr>\n",
       "      <th>0</th>\n",
       "      <td>16852973</td>\n",
       "      <td>HR</td>\n",
       "      <td>hr administrator marketing associate hr admini...</td>\n",
       "    </tr>\n",
       "    <tr>\n",
       "      <th>1</th>\n",
       "      <td>22323967</td>\n",
       "      <td>HR</td>\n",
       "      <td>hr specialist hr operations summary media prof...</td>\n",
       "    </tr>\n",
       "    <tr>\n",
       "      <th>2</th>\n",
       "      <td>33176873</td>\n",
       "      <td>HR</td>\n",
       "      <td>hr director summary years experience recruitin...</td>\n",
       "    </tr>\n",
       "    <tr>\n",
       "      <th>3</th>\n",
       "      <td>27018550</td>\n",
       "      <td>HR</td>\n",
       "      <td>hr specialist summary dedicated driven dynamic...</td>\n",
       "    </tr>\n",
       "    <tr>\n",
       "      <th>4</th>\n",
       "      <td>17812897</td>\n",
       "      <td>HR</td>\n",
       "      <td>hr manager skill highlights hr skills hr depar...</td>\n",
       "    </tr>\n",
       "  </tbody>\n",
       "</table>\n",
       "</div>"
      ],
      "text/plain": [
       "         ID Category                                            Feature\n",
       "0  16852973       HR  hr administrator marketing associate hr admini...\n",
       "1  22323967       HR  hr specialist hr operations summary media prof...\n",
       "2  33176873       HR  hr director summary years experience recruitin...\n",
       "3  27018550       HR  hr specialist summary dedicated driven dynamic...\n",
       "4  17812897       HR  hr manager skill highlights hr skills hr depar..."
      ]
     },
     "execution_count": 108,
     "metadata": {},
     "output_type": "execute_result"
    }
   ],
   "source": [
    "resume_data.head()"
   ]
  },
  {
   "cell_type": "code",
   "execution_count": 110,
   "id": "1c046c2a",
   "metadata": {},
   "outputs": [
    {
     "data": {
      "text/plain": [
       "array(['HR', 'DESIGNER', 'INFORMATION-TECHNOLOGY', 'TEACHER', 'ADVOCATE',\n",
       "       'BUSINESS-DEVELOPMENT', 'HEALTHCARE', 'FITNESS', 'AGRICULTURE',\n",
       "       'BPO', 'SALES', 'CONSULTANT', 'DIGITAL-MEDIA', 'AUTOMOBILE',\n",
       "       'CHEF', 'FINANCE', 'APPAREL', 'ENGINEERING', 'ACCOUNTANT',\n",
       "       'CONSTRUCTION', 'PUBLIC-RELATIONS', 'BANKING', 'ARTS', 'AVIATION'],\n",
       "      dtype=object)"
      ]
     },
     "execution_count": 110,
     "metadata": {},
     "output_type": "execute_result"
    }
   ],
   "source": [
    "resume_data['Category'].unique()"
   ]
  },
  {
   "cell_type": "code",
   "execution_count": 112,
   "id": "aa9e00f8",
   "metadata": {},
   "outputs": [],
   "source": [
    "label_mapping = {\n",
    "    'HR': 0,\n",
    "    'DESIGNER': 1,\n",
    "    'INFORMATION-TECHNOLOGY': 2,\n",
    "    'TEACHER': 3,\n",
    "    'ADVOCATE': 4,\n",
    "    'BUSINESS-DEVELOPMENT': 5,\n",
    "    'HEALTHCARE': 6,\n",
    "    'FITNESS': 7,\n",
    "    'AGRICULTURE': 8,\n",
    "    'BPO': 9,\n",
    "    'SALES': 10,\n",
    "    'CONSULTANT': 11,\n",
    "    'DIGITAL-MEDIA': 12,\n",
    "    'AUTOMOBILE': 13,\n",
    "    'CHEF': 14,\n",
    "    'FINANCE': 15,\n",
    "    'APPAREL': 16,\n",
    "    'ENGINEERING': 17,\n",
    "    'ACCOUNTANT': 18,\n",
    "    'CONSTRUCTION': 19,\n",
    "    'PUBLIC-RELATIONS': 20,\n",
    "    'BANKING': 21,\n",
    "    'ARTS': 22,\n",
    "    'AVIATION': 23\n",
    "}\n",
    "\n",
    "# Replace labels with numerical values\n",
    "resume_data['Category'] = resume_data['Category'].map(label_mapping)\n"
   ]
  },
  {
   "cell_type": "code",
   "execution_count": 113,
   "id": "d7ef381f",
   "metadata": {},
   "outputs": [
    {
     "data": {
      "text/plain": [
       "ID          0\n",
       "Category    0\n",
       "Feature     0\n",
       "dtype: int64"
      ]
     },
     "execution_count": 113,
     "metadata": {},
     "output_type": "execute_result"
    }
   ],
   "source": [
    "resume_data.isnull().sum()"
   ]
  },
  {
   "cell_type": "code",
   "execution_count": 114,
   "id": "640b472a",
   "metadata": {},
   "outputs": [],
   "source": [
    "resume_data=resume_data[['Category','Feature']]"
   ]
  },
  {
   "cell_type": "code",
   "execution_count": 115,
   "id": "73385aa8",
   "metadata": {},
   "outputs": [
    {
     "data": {
      "text/html": [
       "<div>\n",
       "<style scoped>\n",
       "    .dataframe tbody tr th:only-of-type {\n",
       "        vertical-align: middle;\n",
       "    }\n",
       "\n",
       "    .dataframe tbody tr th {\n",
       "        vertical-align: top;\n",
       "    }\n",
       "\n",
       "    .dataframe thead th {\n",
       "        text-align: right;\n",
       "    }\n",
       "</style>\n",
       "<table border=\"1\" class=\"dataframe\">\n",
       "  <thead>\n",
       "    <tr style=\"text-align: right;\">\n",
       "      <th></th>\n",
       "      <th>Category</th>\n",
       "      <th>Feature</th>\n",
       "    </tr>\n",
       "  </thead>\n",
       "  <tbody>\n",
       "    <tr>\n",
       "      <th>0</th>\n",
       "      <td>0</td>\n",
       "      <td>hr administrator marketing associate hr admini...</td>\n",
       "    </tr>\n",
       "    <tr>\n",
       "      <th>1</th>\n",
       "      <td>0</td>\n",
       "      <td>hr specialist hr operations summary media prof...</td>\n",
       "    </tr>\n",
       "    <tr>\n",
       "      <th>2</th>\n",
       "      <td>0</td>\n",
       "      <td>hr director summary years experience recruitin...</td>\n",
       "    </tr>\n",
       "    <tr>\n",
       "      <th>3</th>\n",
       "      <td>0</td>\n",
       "      <td>hr specialist summary dedicated driven dynamic...</td>\n",
       "    </tr>\n",
       "    <tr>\n",
       "      <th>4</th>\n",
       "      <td>0</td>\n",
       "      <td>hr manager skill highlights hr skills hr depar...</td>\n",
       "    </tr>\n",
       "  </tbody>\n",
       "</table>\n",
       "</div>"
      ],
      "text/plain": [
       "   Category                                            Feature\n",
       "0         0  hr administrator marketing associate hr admini...\n",
       "1         0  hr specialist hr operations summary media prof...\n",
       "2         0  hr director summary years experience recruitin...\n",
       "3         0  hr specialist summary dedicated driven dynamic...\n",
       "4         0  hr manager skill highlights hr skills hr depar..."
      ]
     },
     "execution_count": 115,
     "metadata": {},
     "output_type": "execute_result"
    }
   ],
   "source": [
    "resume_data.head()"
   ]
  },
  {
   "cell_type": "markdown",
   "id": "20ac8d86",
   "metadata": {},
   "source": [
    "# Converting the dataset in a format supported by hugging face and pussing the same to hugging face"
   ]
  },
  {
   "cell_type": "code",
   "execution_count": 116,
   "id": "3d10d242",
   "metadata": {},
   "outputs": [
    {
     "name": "stderr",
     "output_type": "stream",
     "text": [
      "C:\\ProgramData\\anaconda3\\Lib\\site-packages\\pyarrow\\pandas_compat.py:373: FutureWarning: is_sparse is deprecated and will be removed in a future version. Check `isinstance(dtype, pd.SparseDtype)` instead.\n",
      "  if _pandas_api.is_sparse(col):\n"
     ]
    }
   ],
   "source": [
    "from datasets import Dataset\n",
    "\n",
    "\n",
    "dataset = Dataset.from_pandas(resume_data)"
   ]
  },
  {
   "cell_type": "code",
   "execution_count": 117,
   "id": "a00312ef",
   "metadata": {},
   "outputs": [
    {
     "data": {
      "text/plain": [
       "Dataset({\n",
       "    features: ['Category', 'Feature', '__index_level_0__'],\n",
       "    num_rows: 2483\n",
       "})"
      ]
     },
     "execution_count": 117,
     "metadata": {},
     "output_type": "execute_result"
    }
   ],
   "source": [
    "dataset"
   ]
  },
  {
   "cell_type": "code",
   "execution_count": null,
   "id": "c8756b2b",
   "metadata": {},
   "outputs": [],
   "source": [
    "dataset.push_to_hub(\"Resume_parser\")"
   ]
  },
  {
   "cell_type": "markdown",
   "id": "277e89d8",
   "metadata": {},
   "source": [
    "# Get data from hugging face hub"
   ]
  },
  {
   "cell_type": "code",
   "execution_count": null,
   "id": "96568dff",
   "metadata": {},
   "outputs": [],
   "source": [
    "from datasets import load_dataset\n",
    "\n",
    "dataset = load_dataset(\"AdityaAI9/Resume_parser\")\n"
   ]
  },
  {
   "cell_type": "markdown",
   "id": "de1da274",
   "metadata": {},
   "source": [
    "# Fine Tunning a model"
   ]
  },
  {
   "cell_type": "code",
   "execution_count": 120,
   "id": "89ef7e12",
   "metadata": {},
   "outputs": [
    {
     "data": {
      "text/plain": [
       "DatasetDict({\n",
       "    train: Dataset({\n",
       "        features: ['Category', 'Feature', '__index_level_0__'],\n",
       "        num_rows: 2483\n",
       "    })\n",
       "})"
      ]
     },
     "execution_count": 120,
     "metadata": {},
     "output_type": "execute_result"
    }
   ],
   "source": [
    "dataset"
   ]
  },
  {
   "cell_type": "code",
   "execution_count": 121,
   "id": "67bc3736",
   "metadata": {},
   "outputs": [],
   "source": [
    "dataset = dataset.remove_columns('__index_level_0__')"
   ]
  },
  {
   "cell_type": "code",
   "execution_count": 122,
   "id": "e756f2ac",
   "metadata": {},
   "outputs": [
    {
     "data": {
      "text/plain": [
       "DatasetDict({\n",
       "    train: Dataset({\n",
       "        features: ['Category', 'Feature'],\n",
       "        num_rows: 2483\n",
       "    })\n",
       "})"
      ]
     },
     "execution_count": 122,
     "metadata": {},
     "output_type": "execute_result"
    }
   ],
   "source": [
    "dataset"
   ]
  },
  {
   "cell_type": "code",
   "execution_count": 123,
   "id": "48fc1118",
   "metadata": {},
   "outputs": [
    {
     "name": "stdout",
     "output_type": "stream",
     "text": [
      "DatasetDict({\n",
      "    train: Dataset({\n",
      "        features: ['label', 'text'],\n",
      "        num_rows: 2483\n",
      "    })\n",
      "})\n"
     ]
    }
   ],
   "source": [
    "from datasets import DatasetDict, Dataset\n",
    "\n",
    "# Load dataset\n",
    "dataset_dict = DatasetDict({\n",
    "    \"train\": Dataset.from_dict({\n",
    "        \"label\": [label for label in dataset['train']['Category']],\n",
    "        \"text\": [text  for text in dataset['train']['Feature']]\n",
    "    })\n",
    "})\n",
    "\n",
    "# Check the dataset\n",
    "print(dataset_dict)\n"
   ]
  },
  {
   "cell_type": "code",
   "execution_count": 124,
   "id": "50840a69",
   "metadata": {},
   "outputs": [
    {
     "data": {
      "text/plain": [
       "Dataset({\n",
       "    features: ['label', 'text'],\n",
       "    num_rows: 2483\n",
       "})"
      ]
     },
     "execution_count": 124,
     "metadata": {},
     "output_type": "execute_result"
    }
   ],
   "source": [
    "dataset_dict['train']"
   ]
  },
  {
   "cell_type": "code",
   "execution_count": 125,
   "id": "6f351689",
   "metadata": {},
   "outputs": [
    {
     "data": {
      "text/plain": [
       "{'label': 0,\n",
       " 'text': 'hr administrator marketing associate hr administrator summary dedicated customer service manager years experience hospitality customer service management respected builder leader customer focused teams strives instill shared enthusiastic commitment customer service highlights focused customer satisfaction team management marketing savvy conflict resolution techniques training development skilled multi tasker client relations specialist accomplishments missouri dot supervisor training certification certified ihg customer loyalty marketing segment hilton general manager training certification accomplished trainer cross server hospitality systems hilton onq micros opera pms fidelio opera reservation system ors holidex completed courses seminars customer service sales strategies inventory control loss prevention safety time management leadership performance assessment experience hr administrator marketing associate hr administrator dec current company name city state helps develop policies directs coordinates activities employment compensation labor relations benefits training employee services prepares employee separation notices related documentation keeps records benefits plans participation insurance pension plan personnel transactions hires promotions transfers performance reviews terminations employee statistics government reporting advises management appropriate resolution employee relations issues administers benefits programs life health dental insurance pension plans vacation sick leave leave absence employee assistance marketing associate designed created marketing collateral sales meetings trade shows company executives managed house advertising program consisting print media collateral pieces assisted complete design launch company website months created official company page facebook facilitate interaction customers analyzed ratings programming features competitors evaluate effectiveness marketing strategies advanced medical claims analyst mar dec company name city state reviewed medical bills accuracy treatments tests hospital stays prior sanctioning claims trained interpret codes icd cpt terminology commonly used medical billing fully understand paperwork submitted healthcare providers required organizational analytical skills well computer skills knowledge medical terminology procedures statistics billing standards data analysis laws regarding medical billing assistant general manager jun dec company name city state performed duties including limited budgeting financial management accounting human resources payroll purchasing established maintained close working relationships departments hotel ensure maximum operation productivity morale guest service handled daily operations reported directly corporate office hired trained staff overall objectives goals emphasis high customer service marketing advertising working public relations media government local businesses chamber commerce executive support marketing assistant jul jun company name city state provided assistance various department heads executive marketing customer service human resources managed front end operations ensure friendly efficient transactions ensured swift resolution customer issues preserve customer loyalty complying company policies exemplified second none customer service delivery interactions customers potential clients reservation front office manager jun jul company name city state owner partner dec may company name city state price integrity coordinator aug dec company name city state education n business administration jefferson college city state business administration marketing advertising high school diploma college prep studies sainte genevieve senior high city state awarded american shrubel leadership scholarship jefferson college skills accounting ads advertising analytical skills benefits billing budgeting clients customer service data analysis delivery documentation employee relations financial management government relations human resources insurance labor relations marketing marketing collateral medical billing medical terminology office organizational payroll performance reviews personnel policies posters presentations public relations purchasing reporting statistics websitehr administrator marketing associate hr administrator summary dedicated customer service manager years experience hospitality customer service management respected builder leader customer focused teams strives instill shared enthusiastic commitment customer service highlights focused customer satisfaction team management marketing savvy conflict resolution techniques training development skilled multi tasker client relations specialist accomplishments missouri dot supervisor training certification certified ihg customer loyalty marketing segment hilton general manager training certification accomplished trainer cross server hospitality systems hilton onq micros opera pms fidelio opera reservation system ors holidex completed courses seminars customer service sales strategies inventory control loss prevention safety time management leadership performance assessment experience hr administrator marketing associate hr administrator dec current company name city state helps develop policies directs coordinates activities employment compensation labor relations benefits training employee services prepares employee separation notices related documentation keeps records benefits plans participation insurance pension plan personnel transactions hires promotions transfers performance reviews terminations employee statistics government reporting advises management appropriate resolution employee relations issues administers benefits programs life health dental insurance pension plans vacation sick leave leave absence employee assistance marketing associate designed created marketing collateral sales meetings trade shows company executives managed house advertising program consisting print media collateral pieces assisted complete design launch company website months created official company page facebook facilitate interaction customers analyzed ratings programming features competitors evaluate effectiveness marketing strategies advanced medical claims analyst mar dec company name city state reviewed medical bills accuracy treatments tests hospital stays prior sanctioning claims trained interpret codes icd cpt terminology commonly used medical billing fully understand paperwork submitted healthcare providers required organizational analytical skills well computer skills knowledge medical terminology procedures statistics billing standards data analysis laws regarding medical billing assistant general manager jun dec company name city state performed duties including limited budgeting financial management accounting human resources payroll purchasing established maintained close working relationships departments hotel ensure maximum operation productivity morale guest service handled daily operations reported directly corporate office hired trained staff overall objectives goals emphasis high customer service marketing advertising working public relations media government local businesses chamber commerce executive support marketing assistant jul jun company name city state provided assistance various department heads executive marketing customer service human resources managed front end operations ensure friendly efficient transactions ensured swift resolution customer issues preserve customer loyalty complying company policies exemplified second none customer service delivery interactions customers potential clients reservation front office manager jun jul company name city state owner partner dec may company name city state price integrity coordinator aug dec company name city state education n business administration jefferson college city state business administration marketing advertising high school diploma college prep studies sainte genevieve senior high city state awarded american shrubel leadership scholarship jefferson college skills accounting ads advertising analytical skills benefits billing budgeting clients customer service data analysis delivery documentation employee relations financial management government relations human resources insurance labor relations marketing marketing collateral medical billing medical terminology office organizational payroll performance reviews personnel policies posters presentations public relations purchasing reporting statistics website'}"
      ]
     },
     "execution_count": 125,
     "metadata": {},
     "output_type": "execute_result"
    }
   ],
   "source": [
    "dataset_dict['train'][0]"
   ]
  },
  {
   "cell_type": "code",
   "execution_count": 126,
   "id": "7204f3f4",
   "metadata": {},
   "outputs": [],
   "source": [
    "from transformers import AutoTokenizer\n",
    "\n",
    "tokenizer = AutoTokenizer.from_pretrained(\"distilbert-base-uncased\")\n"
   ]
  },
  {
   "cell_type": "code",
   "execution_count": 127,
   "id": "41f44a05",
   "metadata": {},
   "outputs": [],
   "source": [
    "def preprocess_function(examples):\n",
    "    return tokenizer(examples[\"text\"], truncation=True)"
   ]
  },
  {
   "cell_type": "code",
   "execution_count": 128,
   "id": "d2f6e69c",
   "metadata": {},
   "outputs": [
    {
     "data": {
      "application/vnd.jupyter.widget-view+json": {
       "model_id": "",
       "version_major": 2,
       "version_minor": 0
      },
      "text/plain": [
       "Map:   0%|          | 0/2483 [00:00<?, ? examples/s]"
      ]
     },
     "metadata": {},
     "output_type": "display_data"
    }
   ],
   "source": [
    "tokenized_imdb = dataset_dict.map(preprocess_function, batched=True)"
   ]
  },
  {
   "cell_type": "code",
   "execution_count": 129,
   "id": "56661c69",
   "metadata": {},
   "outputs": [],
   "source": [
    "from transformers import DataCollatorWithPadding\n",
    "\n",
    "data_collator = DataCollatorWithPadding(tokenizer=tokenizer)"
   ]
  },
  {
   "cell_type": "code",
   "execution_count": 130,
   "id": "d4ac2061",
   "metadata": {},
   "outputs": [
    {
     "name": "stderr",
     "output_type": "stream",
     "text": [
      "Some weights of DistilBertForSequenceClassification were not initialized from the model checkpoint at distilbert-base-uncased and are newly initialized: ['pre_classifier.weight', 'classifier.bias', 'classifier.weight', 'pre_classifier.bias']\n",
      "You should probably TRAIN this model on a down-stream task to be able to use it for predictions and inference.\n"
     ]
    }
   ],
   "source": [
    "from transformers import AutoModelForSequenceClassification, TrainingArguments, Trainer\n",
    "\n",
    "model = AutoModelForSequenceClassification.from_pretrained(\"distilbert-base-uncased\", num_labels=24)"
   ]
  },
  {
   "cell_type": "code",
   "execution_count": null,
   "id": "4f289c21",
   "metadata": {},
   "outputs": [],
   "source": [
    "training_args = TrainingArguments(\n",
    "    output_dir=\"./results\",\n",
    "    learning_rate=5e-5,  # Increased learning rate\n",
    "    per_device_train_batch_size=32,  # Increased batch size\n",
    "    per_device_eval_batch_size=16,\n",
    "    num_train_epochs=1,  # Decreased number of epochs\n",
    "    weight_decay=0.01,\n",
    ")\n",
    "\n",
    "trainer = Trainer(\n",
    "    model=model,\n",
    "    args=training_args,\n",
    "    train_dataset=tokenized_imdb[\"train\"],\n",
    "    tokenizer=tokenizer,\n",
    "    data_collator=data_collator,\n",
    ")\n",
    "\n",
    "trainer.train()\n"
   ]
  },
  {
   "cell_type": "code",
   "execution_count": null,
   "id": "b17f096a",
   "metadata": {},
   "outputs": [],
   "source": []
  },
  {
   "cell_type": "code",
   "execution_count": null,
   "id": "6e9d1f4c",
   "metadata": {},
   "outputs": [],
   "source": []
  },
  {
   "cell_type": "code",
   "execution_count": null,
   "id": "83c5fbbd",
   "metadata": {},
   "outputs": [],
   "source": []
  }
 ],
 "metadata": {
  "kernelspec": {
   "display_name": "Python 3 (ipykernel)",
   "language": "python",
   "name": "python3"
  },
  "language_info": {
   "codemirror_mode": {
    "name": "ipython",
    "version": 3
   },
   "file_extension": ".py",
   "mimetype": "text/x-python",
   "name": "python",
   "nbconvert_exporter": "python",
   "pygments_lexer": "ipython3",
   "version": "3.11.5"
  }
 },
 "nbformat": 4,
 "nbformat_minor": 5
}
